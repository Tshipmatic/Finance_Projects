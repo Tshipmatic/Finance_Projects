{
 "cells": [
  {
   "cell_type": "markdown",
   "metadata": {},
   "source": [
    "#           Delta-Gamma hedging of the american put option with a Neural net."
   ]
  },
  {
   "cell_type": "code",
   "execution_count": 2,
   "metadata": {},
   "outputs": [],
   "source": [
    "import tensorflow as tf\n",
    "import tensorflow_probability as tfp\n",
    "import numpy as np\n",
    "import matplotlib.pyplot as plt\n",
    "import tensorflow_probability as tfp\n",
    "import time\n",
    "from tensorflow.keras import layers"
   ]
  },
  {
   "cell_type": "code",
   "execution_count": 3,
   "metadata": {},
   "outputs": [],
   "source": [
    "tf.random.set_seed(10)"
   ]
  },
  {
   "cell_type": "markdown",
   "metadata": {},
   "source": [
    "## Hull 20.8\n",
    "\n",
    "## Using the 'finite method PDE' to value an American put option on a non-dividend paying stock.\n",
    "\n",
    "## $$\\frac{\\partial f}{\\partial t}+r\\frac{\\partial f}{\\partial S} + \\sigma^2 S^2\\frac{\\partial^2 f}{\\partial S^2} = rf$$\n",
    "## Where $r$ and $\\sigma$ are the risk-free rate and volatility, respectively. It is assumed that they will be constant through out.\n",
    "\n",
    "## Boundary equations:\n",
    "## $$f(T,S)=\\mbox{ Max }({K-S},0)$$\n",
    "## $$f(t,0)=K$$\n",
    "## $$f(t,S_{max})=0$$\n",
    "## Where T and K are maturity date and strike prize respectively."
   ]
  },
  {
   "cell_type": "code",
   "execution_count": 4,
   "metadata": {},
   "outputs": [],
   "source": [
    "N_t = 100\n",
    "N_s = N_t\n",
    "r = 0.1\n",
    "sigma = 0.4\n",
    "so = 50.\n",
    "k = 50\n",
    "t = np.linspace(0,5, N_t, dtype = np.float32).reshape(N_t,1)\n",
    "s = np.linspace(0,100, N_s, dtype = np.float32).reshape(N_s,1)"
   ]
  },
  {
   "cell_type": "code",
   "execution_count": 5,
   "metadata": {},
   "outputs": [],
   "source": [
    "smax = s.max()\n",
    "tmax = t.max()"
   ]
  },
  {
   "cell_type": "code",
   "execution_count": 6,
   "metadata": {},
   "outputs": [],
   "source": [
    "t = t/t.max()\n",
    "s = s/s.max()"
   ]
  },
  {
   "cell_type": "code",
   "execution_count": 7,
   "metadata": {},
   "outputs": [],
   "source": [
    "k = tf.convert_to_tensor(k, dtype=tf.float32)/smax   #normalize\n",
    "r = tf.convert_to_tensor(r, dtype=tf.float32) \n",
    "sigma = tf.convert_to_tensor(sigma, dtype=tf.float32)\n",
    "so = tf.convert_to_tensor(so, dtype=tf.float32)\n",
    "t = tf.convert_to_tensor(t, dtype=tf.float32) \n",
    "s = tf.convert_to_tensor(s, dtype=tf.float32) "
   ]
  },
  {
   "cell_type": "code",
   "execution_count": 8,
   "metadata": {},
   "outputs": [],
   "source": [
    "class MyModel(tf.keras.Model):\n",
    "    def __init__(self):\n",
    "        super(MyModel,self).__init__()\n",
    "        #activation = 'sigmoid', \n",
    "        self.dense1 = layers.Dense(200, input_shape = (3,))\n",
    "        self.dense2 = layers.Dense(100)\n",
    "        self.dense3 = layers.Dense(50)\n",
    "        self.dense4 = layers.Dense(25)\n",
    "        self.dense5 = layers.Dense(25)\n",
    "        self.dense6 = layers.Dense(20)\n",
    "        self.dense7 = layers.Dense(20)\n",
    "        self.dense8 = layers.Dense(20)\n",
    "        self.dense9 = layers.Dense(1)\n",
    "        \n",
    "    def call(self, x):\n",
    "        x = self.dense1(x)\n",
    "        x = tf.nn.tanh(x)\n",
    "\n",
    "        x = self.dense2(x)\n",
    "        x = tf.nn.tanh(x)\n",
    "        \n",
    "        x = self.dense3(x)\n",
    "        x = tf.nn.tanh(x)\n",
    "\n",
    "        x = self.dense4(x)\n",
    "        x = tf.nn.tanh(x)\n",
    "\n",
    "        x = self.dense5(x)\n",
    "        x = tf.nn.tanh(x)\n",
    "\n",
    "        x = self.dense6(x)\n",
    "        x = tf.nn.tanh(x)\n",
    "\n",
    "        x = self.dense7(x)\n",
    "        x = tf.nn.tanh(x)\n",
    "        \n",
    "        x = self.dense8(x)\n",
    "        x = tf.nn.tanh(x)\n",
    "        \n",
    "        x = self.dense9(x)\n",
    "        x = tf.nn.tanh(x)\n",
    "        \n",
    "        return x"
   ]
  },
  {
   "cell_type": "code",
   "execution_count": 9,
   "metadata": {},
   "outputs": [],
   "source": [
    "model = MyModel()"
   ]
  },
  {
   "cell_type": "code",
   "execution_count": 10,
   "metadata": {},
   "outputs": [],
   "source": [
    "def u(t,s,k):\n",
    "    return model(tf.concat([t,s,k*tf.ones(s.shape)],1))"
   ]
  },
  {
   "cell_type": "code",
   "execution_count": 11,
   "metadata": {},
   "outputs": [],
   "source": [
    "@tf.function\n",
    "def f(t,s,k):\n",
    "    t = tf.Variable(t, dtype = tf.float32)\n",
    "    s = tf.Variable(s, dtype = tf.float32)\n",
    "    with tf.GradientTape() as der2:\n",
    "        with tf.GradientTape(persistent=True) as der1:\n",
    "            u_ = u(t,s,k)\n",
    "        u_t = der1.gradient(u_, t)\n",
    "        u_s = der1.gradient(u_, s)\n",
    "    u_ss = der2.gradient(u_s, s)\n",
    "    f = u_t + r*u_s + (sigma**2)*0.5**u_ss\n",
    "    return f"
   ]
  },
  {
   "cell_type": "code",
   "execution_count": 12,
   "metadata": {},
   "outputs": [],
   "source": [
    "@tf.function\n",
    "def loss(t,s):\n",
    "    #|u(0,t)-k|^2\n",
    "    mse_y_0 = tf.reduce_mean(tf.square(u(t,tf.zeros(s.shape),k)-k))\n",
    "    #|u(smax,t)|^2 u(t,s)\n",
    "    mse_yp_0 = tf.reduce_mean(tf.square(u(t,smax*tf.ones(s.shape),k)))\n",
    "    #|u(s,tmax)-max(k-s,0)|^2\n",
    "    mse_eq = tf.reduce_mean(tf.square(u(tmax*tf.ones(s.shape),s,k)-tf.maximum(k-s,0)))\n",
    "    mse_t = mse_eq + mse_y_0 + mse_yp_0  #MSE tota;\n",
    "    return mse_t"
   ]
  },
  {
   "cell_type": "code",
   "execution_count": 13,
   "metadata": {},
   "outputs": [],
   "source": [
    "@tf.function\n",
    "def loss_option(t,s,option):\n",
    "    #|u(0,t)-k|^2\n",
    "    mse_y_0 = tf.reduce_mean(tf.square(u(t,tf.zeros(s.shape))-k))\n",
    "    #|u(smax,t)|^2 u(t,s)\n",
    "    mse_yp_0 = tf.reduce_mean(tf.square(u(t,smax*tf.ones(s.shape))))\n",
    "    #|u(s,tmax)-max(k-s,0)|^2\n",
    "    if option == 'p':\n",
    "        print('put')\n",
    "        mse_eq = tf.reduce_mean(tf.square(u(tmax*tf.ones(s.shape),s)-tf.maximum(k-s,0)))\n",
    "    else:\n",
    "        print('call')\n",
    "        mse_eq = tf.reduce_mean(tf.square(u(tmax*tf.ones(s.shape),s)-tf.maximum(s-k,0)))\n",
    "        \n",
    "    mse_t = mse_eq + mse_y_0 + mse_yp_0  #MSE tota;\n",
    "    return mse_t"
   ]
  },
  {
   "cell_type": "code",
   "execution_count": 14,
   "metadata": {
    "scrolled": true
   },
   "outputs": [
    {
     "data": {
      "text/plain": [
       "<tf.Tensor: id=598, shape=(), dtype=float32, numpy=0.6615121>"
      ]
     },
     "execution_count": 14,
     "metadata": {},
     "output_type": "execute_result"
    }
   ],
   "source": [
    "loss(t,s)"
   ]
  },
  {
   "cell_type": "code",
   "execution_count": 23,
   "metadata": {},
   "outputs": [],
   "source": [
    "los = loss(t,s)"
   ]
  },
  {
   "cell_type": "code",
   "execution_count": 27,
   "metadata": {},
   "outputs": [],
   "source": [
    "optim = tf.keras.optimizers.Adam(0.001)"
   ]
  },
  {
   "cell_type": "code",
   "execution_count": 28,
   "metadata": {},
   "outputs": [],
   "source": [
    "@tf.function\n",
    "def train_step(t,s):\n",
    "    with tf.GradientTape() as g:\n",
    "        los = loss(t,s)\n",
    "        \n",
    "    dldparams = g.gradient(los, model.trainable_variables)\n",
    "    \n",
    "    optim.apply_gradients(zip(dldparams,model.trainable_variables))\n",
    "    return los"
   ]
  },
  {
   "cell_type": "code",
   "execution_count": 29,
   "metadata": {},
   "outputs": [
    {
     "data": {
      "text/plain": [
       "<tf.Tensor: id=2034, shape=(), dtype=float32, numpy=0.6615121>"
      ]
     },
     "execution_count": 29,
     "metadata": {},
     "output_type": "execute_result"
    }
   ],
   "source": [
    "train_step(t,s)"
   ]
  },
  {
   "cell_type": "code",
   "execution_count": 30,
   "metadata": {},
   "outputs": [],
   "source": [
    "#model.load_weights('BSM_with_k')"
   ]
  },
  {
   "cell_type": "code",
   "execution_count": 31,
   "metadata": {
    "scrolled": false
   },
   "outputs": [
    {
     "data": {
      "text/plain": [
       "<tf.Tensor: id=2035, shape=(), dtype=float32, numpy=0.5456176>"
      ]
     },
     "execution_count": 31,
     "metadata": {},
     "output_type": "execute_result"
    }
   ],
   "source": [
    "loss(t,s)"
   ]
  },
  {
   "cell_type": "code",
   "execution_count": 32,
   "metadata": {},
   "outputs": [
    {
     "name": "stdout",
     "output_type": "stream",
     "text": [
      "Initial loss:  0.5456176\n",
      "Epoch #0 loss is 0.06917542964220047\n",
      "Epoch #100 loss is 0.0001272210938623175\n",
      "Epoch #200 loss is 0.00015944229380693287\n",
      "Epoch #300 loss is 0.00011559935956029221\n",
      "Epoch #400 loss is 0.00010868377285078168\n",
      "Epoch #500 loss is 0.00012697627244051546\n",
      "Epoch #600 loss is 3.8219281123019755e-05\n",
      "Epoch #700 loss is 1.818667442421429e-05\n",
      "Epoch #800 loss is 0.0001505240797996521\n",
      "Epoch #900 loss is 0.00010659465624485165\n",
      "Epoch #1000 loss is 3.2702733733458444e-05\n",
      "Epoch #1100 loss is 7.788001676090062e-05\n",
      "Epoch #1200 loss is 1.3767519703833386e-05\n",
      "Epoch #1300 loss is 9.036156552610919e-05\n",
      "Epoch #1400 loss is 2.5441795514780097e-05\n",
      "Epoch #1500 loss is 9.521371976006776e-05\n",
      "Epoch #1600 loss is 4.287277624825947e-05\n",
      "Epoch #1700 loss is 5.9883295762119815e-05\n",
      "Epoch #1800 loss is 7.483393710572273e-05\n",
      "Epoch #1900 loss is 2.488469544914551e-05\n",
      "Epoch #2000 loss is 2.6158933906117454e-05\n",
      "Epoch #2100 loss is 9.004946150525939e-06\n",
      "Epoch #2200 loss is 3.977510459662881e-06\n",
      "Epoch #2300 loss is 2.2127858755993657e-05\n",
      "Epoch #2400 loss is 1.8811559812093037e-06\n",
      "Epoch #2500 loss is 1.295917513743916e-06\n",
      "Epoch #2600 loss is 0.00011716682638507336\n",
      "Epoch #2700 loss is 1.1004297448380385e-05\n",
      "Epoch #2800 loss is 2.6890838853432797e-06\n",
      "Epoch #2900 loss is 1.4251578477342264e-06\n",
      "Epoch #3000 loss is 1.0293038940289989e-05\n",
      "Epoch #3100 loss is 9.845277872955194e-07\n",
      "Epoch #3200 loss is 2.146012775483541e-06\n",
      "Epoch #3300 loss is 2.0177809346932918e-05\n",
      "Epoch #3400 loss is 5.754654921474867e-07\n",
      "Epoch #3500 loss is 7.574893743367284e-07\n",
      "Epoch #3600 loss is 1.7114857655542437e-06\n",
      "Epoch #3700 loss is 7.661817653570324e-05\n",
      "Epoch #3800 loss is 3.888996070600115e-05\n",
      "Epoch #3900 loss is 9.16957560548326e-07\n",
      "Epoch #4000 loss is 1.2853144653490745e-05\n",
      "Epoch #4100 loss is 3.5286927868583007e-07\n",
      "Epoch #4200 loss is 8.559078423786559e-07\n",
      "Epoch #4300 loss is 4.926715519104619e-06\n",
      "Epoch #4400 loss is 4.624308076017769e-06\n",
      "Epoch #4500 loss is 9.535337994748261e-07\n",
      "Epoch #4600 loss is 5.707529453502502e-07\n",
      "Epoch #4700 loss is 2.4822105615385226e-07\n",
      "Epoch #4800 loss is 3.343698722346744e-07\n",
      "Epoch #4900 loss is 2.436996453525353e-07\n",
      "0 hours 3 minutes 55 secs\n"
     ]
    }
   ],
   "source": [
    "start_time1 = time.time()\n",
    "tn = tf.random.shuffle(t,seed=10)\n",
    "sn = tf.random.shuffle(s,seed=10)\n",
    "epochs = 5000\n",
    "losss = 0.\n",
    "draw =[]\n",
    "batch_size = 20\n",
    "batches = int(t.shape[0]/batch_size)\n",
    "\n",
    "\n",
    "print('Initial loss: ',loss(t,s).numpy())\n",
    "for epoch in range(epochs):\n",
    "    start = 0\n",
    "    for i in range(batches):\n",
    "     #   print('start',start,'end',start + batch_size)\n",
    "    #    print(model(x[start:start + batch_size]),'\\n')\n",
    "   #     print('train:',train_step(x[start:start + batch_size]).numpy())\n",
    "        losss = train_step(tn[start:start + batch_size],sn[start:start + batch_size])\n",
    "        draw.append(losss)     \n",
    "        start +=batch_size\n",
    "    if epoch%100== 0:\n",
    "        print('Epoch #{} loss is {}'.format(epoch, losss))\n",
    "        if(np.abs(draw[-2]-draw[-1])<=1e-15):\n",
    "            break\n",
    "finish1 = time.time()        \n",
    "diff1=finish1-start_time1\n",
    "print(int(diff1/(60*60)),'hours',int((diff1)/60),'minutes',int(diff1%60),'secs')              "
   ]
  },
  {
   "cell_type": "code",
   "execution_count": 33,
   "metadata": {},
   "outputs": [
    {
     "data": {
      "text/plain": [
       "<tf.Tensor: id=227836, shape=(), dtype=float32, numpy=1.7674795e-06>"
      ]
     },
     "execution_count": 33,
     "metadata": {},
     "output_type": "execute_result"
    }
   ],
   "source": [
    "loss(t,s)"
   ]
  },
  {
   "cell_type": "code",
   "execution_count": 35,
   "metadata": {
    "scrolled": true
   },
   "outputs": [
    {
     "data": {
      "text/plain": [
       "Text(0.5, 0, 'iterations')"
      ]
     },
     "execution_count": 35,
     "metadata": {},
     "output_type": "execute_result"
    },
    {
     "data": {
      "image/png": "[encoded data removed]",
      "text/plain": [
       "<Figure size 432x288 with 1 Axes>"
      ]
     },
     "metadata": {
      "needs_background": "light"
     },
     "output_type": "display_data"
    }
   ],
   "source": [
    "plt.plot(draw)\n",
    "plt.ylabel('loss')\n",
    "plt.xlabel('iterations')"
   ]
  },
  {
   "cell_type": "code",
   "execution_count": 36,
   "metadata": {},
   "outputs": [
    {
     "data": {
      "text/plain": [
       "[<matplotlib.lines.Line2D at 0x7f4e748da590>]"
      ]
     },
     "execution_count": 36,
     "metadata": {},
     "output_type": "execute_result"
    },
    {
     "data": {
      "image/png": "[encoded data removed]",
      "text/plain": [
       "<Figure size 432x288 with 1 Axes>"
      ]
     },
     "metadata": {
      "needs_background": "light"
     },
     "output_type": "display_data"
    }
   ],
   "source": [
    "plt.plot(u(tmax*tf.ones(t.shape),s,k), 'r', label = 'model')"
   ]
  },
  {
   "cell_type": "code",
   "execution_count": 37,
   "metadata": {
    "scrolled": false
   },
   "outputs": [
    {
     "name": "stdout",
     "output_type": "stream",
     "text": [
      "converged: False\n",
      "loss tf.Tensor(5.486593e-08, shape=(), dtype=float32)\n",
      "0 hours 2 minutes 27 secs\n"
     ]
    }
   ],
   "source": [
    "# Quasi Newton to improve the result\n",
    "shapes = tf.shape_n(model.trainable_variables)\n",
    "length_shapes = len(shapes)\n",
    "count = 0\n",
    "idx = []\n",
    "part = []\n",
    "for i in range(length_shapes):\n",
    "    n = np.product(shapes[i])\n",
    "    idx.append(tf.reshape(tf.range(count, count+n, dtype=tf.int32),shapes[i]))\n",
    "    count += n   \n",
    "    part.extend([i]*n)\n",
    "\n",
    "def update_weights(OneD):\n",
    "    params = tf.dynamic_partition(OneD, part, length_shapes)\n",
    "    for i, (shape, param) in enumerate(zip(shapes, params)):\n",
    "        model.trainable_variables[i].assign(tf.reshape(param, shape))\n",
    "\n",
    "def flatten_the_parameters(weights):\n",
    "    return tf.dynamic_stitch(idx, weights) \n",
    "\n",
    "@tf.function\n",
    "def value_and_gradient(flat_weights):\n",
    "    #update weights \n",
    "    update_weights(flat_weights)\n",
    "    with tf.GradientTape() as g:\n",
    "        los = loss(t,s)\n",
    "        \n",
    "    grad = g.gradient(los, model.trainable_variables) \n",
    "    flattend_grad = flatten_the_parameters(grad) #converts from multDim to 1D\n",
    "    return los, flattend_grad\n",
    "\n",
    "start_time2 = time.time()\n",
    "\n",
    "flat_parameters = flatten_the_parameters(model.get_weights())\n",
    "start = tf.constant(flat_parameters)  # Starting point for the search.\n",
    "\n",
    "optim_results = tfp.optimizer.lbfgs_minimize(\n",
    "  value_and_gradient, initial_position=start, tolerance=1.0e-20, max_iterations=5000)\n",
    "print('converged:', optim_results.converged.numpy())\n",
    "update_weights(optim_results.position)\n",
    "print('loss',loss(t,s))\n",
    "finish2 = time.time()\n",
    "diff2=finish2-start_time2\n",
    "print(int(diff2/(60*60)),'hours',int((diff2)/60),'minutes',int(diff2%60),'secs')    "
   ]
  },
  {
   "cell_type": "code",
   "execution_count": 38,
   "metadata": {},
   "outputs": [
    {
     "data": {
      "text/plain": [
       "<tf.Tensor: id=529142, shape=(), dtype=float32, numpy=5.486593e-08>"
      ]
     },
     "execution_count": 38,
     "metadata": {},
     "output_type": "execute_result"
    }
   ],
   "source": [
    "loss(t,s)"
   ]
  },
  {
   "cell_type": "code",
   "execution_count": 39,
   "metadata": {
    "scrolled": true
   },
   "outputs": [
    {
     "data": {
      "text/plain": [
       "<matplotlib.legend.Legend at 0x7f4e743eea90>"
      ]
     },
     "execution_count": 39,
     "metadata": {},
     "output_type": "execute_result"
    },
    {
     "data": {
      "image/png": "[encoded data removed]",
      "text/plain": [
       "<Figure size 432x288 with 1 Axes>"
      ]
     },
     "metadata": {
      "needs_background": "light"
     },
     "output_type": "display_data"
    }
   ],
   "source": [
    "plt.plot(u(tmax*tf.ones(t.shape),s,k), 'r', label = 'model')\n",
    "#plt.plot(x,y(x), 'b-', label = 'theory')\n",
    "plt.legend(loc='best')"
   ]
  },
  {
   "cell_type": "code",
   "execution_count": 40,
   "metadata": {},
   "outputs": [],
   "source": [
    "model.save_weights('BSM_with_k')"
   ]
  },
  {
   "cell_type": "code",
   "execution_count": 43,
   "metadata": {
    "scrolled": true
   },
   "outputs": [
    {
     "data": {
      "text/plain": [
       "Text(0.5, 1.0, '$\\\\Delta_p$ the put option')"
      ]
     },
     "execution_count": 43,
     "metadata": {},
     "output_type": "execute_result"
    },
    {
     "data": {
      "image/png": "[encoded data removed]",
      "text/plain": [
       "<Figure size 432x288 with 1 Axes>"
      ]
     },
     "metadata": {
      "needs_background": "light"
     },
     "output_type": "display_data"
    }
   ],
   "source": [
    "S = tf.Variable(s, dtype=tf.float32)\n",
    "with tf.GradientTape() as dg:\n",
    "    v = u(tmax*tf.ones(t.shape),S,k)\n",
    "delta = dg.gradient(v,S)\n",
    "\n",
    "plt.plot(delta)\n",
    "plt.ylabel('Delta $\\Delta_p$')\n",
    "plt.xlabel('Stock')\n",
    "plt.title('$\\Delta_p$ the put option')\n",
    "# plt.ylim(0,0.01)"
   ]
  },
  {
   "cell_type": "markdown",
   "metadata": {},
   "source": [
    "### The above agrees with theory,  $\\Delta$ for a put option is between -1 and 0."
   ]
  },
  {
   "cell_type": "markdown",
   "metadata": {},
   "source": [
    "## Delta neutral\n",
    "\n",
    "### So far our portfolio,X, consist of a single put option. To make X $\\Delta$-neutral we must have the following condition $$\\Delta_x = \\frac{\\partial X}{\\partial S} = 0$$  S is the underlying stock. \n",
    "\n",
    "### A put option has a $\\Delta_p < 0$. To make $\\Delta_x = 0$,  our portfolio X must include $N_s$ stocks. Since  $\\Delta_s > 0$. The portfolio now consist of a put(p) and a stock(s).\n",
    "\n",
    "### The value,$V$, of our portfolio is $$V = N_p P + N_s S$$  Where $N_p \\mbox{and} N_s$ are the number of put options and shares in V. In our case $N_p =10$ and our aim is to find $N_s$ that makes V delta-neutral.\n",
    "\n",
    "### $$0 = \\frac{\\partial V}{\\partial S} = N_{p}\\frac{\\partial P }{\\partial S} + N_s$$\n",
    "###  $$\\frac{\\partial P }{\\partial S} = \\Delta_p = -\\frac{N_s}{N_p}$$\n",
    "### Therefore $$N_s = -N_p\\Delta_{p} = -10\\Delta_p$$\n",
    "### $N_s$ is the number of shares needed to make the portfolio $V$ delta neutral."
   ]
  },
  {
   "cell_type": "markdown",
   "metadata": {},
   "source": [
    "### Determining $N_s$"
   ]
  },
  {
   "cell_type": "code",
   "execution_count": 46,
   "metadata": {},
   "outputs": [],
   "source": [
    "Np = 10\n",
    "Ns = -Np*delta"
   ]
  },
  {
   "cell_type": "markdown",
   "metadata": {},
   "source": [
    "## New portfolio $$V = 10P + NsS$$"
   ]
  },
  {
   "cell_type": "code",
   "execution_count": 47,
   "metadata": {},
   "outputs": [],
   "source": [
    "v = Np*u(tmax*tf.ones(t.shape),s,k)+Ns*s"
   ]
  },
  {
   "cell_type": "markdown",
   "metadata": {},
   "source": [
    "## Check if $\\Delta_V = 0$"
   ]
  },
  {
   "cell_type": "code",
   "execution_count": 48,
   "metadata": {
    "scrolled": false
   },
   "outputs": [
    {
     "data": {
      "text/plain": [
       "Text(0.5, 1.0, 'Delta for the new portfolio V')"
      ]
     },
     "execution_count": 48,
     "metadata": {},
     "output_type": "execute_result"
    },
    {
     "data": {
      "image/png": "[encoded data removed]",
      "text/plain": [
       "<Figure size 432x288 with 1 Axes>"
      ]
     },
     "metadata": {
      "needs_background": "light"
     },
     "output_type": "display_data"
    }
   ],
   "source": [
    "St = tf.Variable(s, dtype=tf.float32)\n",
    "with tf.GradientTape() as dg:\n",
    "    v = 10*u(tmax*tf.ones(t.shape),St,k)+Ns*St\n",
    "    delta_neutral = dg.gradient(v,St)\n",
    "plt.plot(delta_neutral)\n",
    "plt.title('Delta for the new portfolio V')"
   ]
  },
  {
   "cell_type": "markdown",
   "metadata": {},
   "source": [
    "## $\\Delta_V$ is sufficiently close to zero. Portfolio,V, is delta neutralized ;)"
   ]
  },
  {
   "cell_type": "markdown",
   "metadata": {},
   "source": [
    "### $\\Delta_V \\approx 0$ throughout. Portfolio V is not affected by small changes of the stock.  But what if we have large changes of the stock price?$\\Delta_V$ will not be able to account for it.  For instance, suppose that,locally, the option price $P$ is a quadratic function of the stock price $S$. Then $\\Delta_V$ approximates this function as a straight line at $S_0$ - ignores the curvature. It will be correct for very small changes of the stock price but will fail to account large changes. \n",
    "\n",
    "### $\\Gamma_V$ helps us solve this problem. Because is defined by $$\\Gamma_V = \\frac{\\partial^2 V}{\\partial^2 S} = \\frac{\\partial \\Delta_V}{\\partial S} $$ thus considers curvature that $\\Delta_V$ missed."
   ]
  },
  {
   "cell_type": "code",
   "execution_count": 50,
   "metadata": {},
   "outputs": [
    {
     "data": {
      "text/plain": [
       "Text(0.5, 0, 'S')"
      ]
     },
     "execution_count": 50,
     "metadata": {},
     "output_type": "execute_result"
    },
    {
     "data": {
      "image/png": "[encoded data removed]",
      "text/plain": [
       "<Figure size 432x288 with 1 Axes>"
      ]
     },
     "metadata": {
      "needs_background": "light"
     },
     "output_type": "display_data"
    }
   ],
   "source": [
    "S = tf.Variable(s, dtype=tf.float32)\n",
    "with tf.GradientTape() as dg2:\n",
    "    with tf.GradientTape() as dg1:\n",
    "        v = 10*u(tmax*tf.ones(t.shape),S,k)+Ns*S\n",
    "    dvds = dg1.gradient(v,S)\n",
    "gamma_v = dg2.gradient(dvds,S)   \n",
    "plt.plot(gamma_v)\n",
    "plt.title('$\\Gamma$ of the new portfolio V')\n",
    "plt.ylabel('$\\Gamma$')\n",
    "plt.xlabel('S')"
   ]
  },
  {
   "cell_type": "markdown",
   "metadata": {},
   "source": [
    "## Gamma neutral"
   ]
  },
  {
   "cell_type": "markdown",
   "metadata": {},
   "source": [
    "## $$\\Gamma = \\frac{\\partial \\Delta}{\\partial S}$$\n",
    "### $\\Gamma$ depends on $\\Delta \\mbox{ and }S$. By changing $\\Delta$ we can manipulate $\\Gamma$.  V consist of a put option that has $\\Delta_p <0$. and some stocks. We have to add an instruments that  will neutralize $\\Gamma_V$. Since we have solved for the put option, we will add another a put option with a different strike price. Inside $V$ Our new portfolio becomes  \n",
    "## $$V = N_{p1} P(k_1) + N_s S + N_{p2} P(k_2)$$"
   ]
  },
  {
   "cell_type": "markdown",
   "metadata": {},
   "source": [
    "## $$\\Delta_V =  N_{p1}\\Delta_1+ N_s +N_{p2}\\Delta_2$$\n",
    "## $$\\Delta_i = \\frac{\\partial P(k_1)}{\\partial S}, i = 1,2$$\n",
    "\n",
    "\n",
    "## $$\\Gamma_V = \\frac{\\partial^2 V}{\\partial S^2} = N_{p1}\\Gamma_1+N_{p2}\\Gamma_2$$\n",
    "## $$\\Gamma_i = \\frac{\\partial P(k_i)}{\\partial S^2}, i = 1,2$$\n",
    "## Aim $$\\Gamma_V = 0$$\n"
   ]
  },
  {
   "cell_type": "code",
   "execution_count": 51,
   "metadata": {},
   "outputs": [
    {
     "data": {
      "text/plain": [
       "<matplotlib.legend.Legend at 0x7f4e486d7190>"
      ]
     },
     "execution_count": 51,
     "metadata": {},
     "output_type": "execute_result"
    },
    {
     "data": {
      "image/png": "[encoded data removed]",
      "text/plain": [
       "<Figure size 432x288 with 1 Axes>"
      ]
     },
     "metadata": {
      "needs_background": "light"
     },
     "output_type": "display_data"
    }
   ],
   "source": [
    "#k2 = 2*k1\n",
    "S = tf.Variable(s, dtype=tf.float32)\n",
    "with tf.GradientTape(persistent=True) as dg2:\n",
    "    with tf.GradientTape(persistent=True) as dg:\n",
    "        v1 = u(tmax*tf.ones(t.shape),S,k)\n",
    "        v2 = u(tmax*tf.ones(t.shape),S,2*k)\n",
    "    delta1 = dg.gradient(v1,S)\n",
    "    delta2 = dg.gradient(v2,S)\n",
    "gamma1 =  dg2.gradient(delta1,S)   \n",
    "gamma2 =  dg2.gradient(delta2,S)\n",
    "plt.plot(delta1,label='$\\Delta1$')\n",
    "plt.plot(delta2,label='$\\Delta2$')\n",
    "plt.legend(loc='best')"
   ]
  },
  {
   "cell_type": "code",
   "execution_count": 53,
   "metadata": {},
   "outputs": [],
   "source": [
    "np2 = -Np*gamma1/gamma2\n",
    "v_g = Np*u(tmax*tf.ones(t.shape),s,k) + Ns*s + np2*u(tmax*tf.ones(t.shape),S,2*k)"
   ]
  },
  {
   "cell_type": "code",
   "execution_count": 56,
   "metadata": {},
   "outputs": [
    {
     "data": {
      "text/plain": [
       "Text(0.5, 0, 'S')"
      ]
     },
     "execution_count": 56,
     "metadata": {},
     "output_type": "execute_result"
    },
    {
     "data": {
      "image/png": "[encoded data removed]",
      "text/plain": [
       "<Figure size 432x288 with 1 Axes>"
      ]
     },
     "metadata": {
      "needs_background": "light"
     },
     "output_type": "display_data"
    }
   ],
   "source": [
    "St = tf.Variable(s, dtype=tf.float32)\n",
    "with tf.GradientTape() as dg2:\n",
    "    with tf.GradientTape() as dg:\n",
    "        v_g = Np*u(tmax*tf.ones(t.shape),St,k) + Ns*St + np2*u(tmax*tf.ones(t.shape),St,2*k)\n",
    "    delta_neutral = dg.gradient(v_g,St)\n",
    "gamma_neutral =dg2.gradient(delta_neutral,St)     \n",
    "plt.plot(gamma_neutral)\n",
    "plt.title('Gamma for the new portfolio V')\n",
    "plt.ylabel('$\\Gamma$')\n",
    "plt.xlabel('S')"
   ]
  },
  {
   "cell_type": "markdown",
   "metadata": {},
   "source": [
    "### Introducing another put in the portfolio changes delta of V. This makes our portfolio delta not zero. It needs to be re-adjusted."
   ]
  },
  {
   "cell_type": "code",
   "execution_count": 57,
   "metadata": {},
   "outputs": [
    {
     "data": {
      "text/plain": [
       "Text(0.5, 1.0, 'Delta for the new portfolio V_g')"
      ]
     },
     "execution_count": 57,
     "metadata": {},
     "output_type": "execute_result"
    },
    {
     "data": {
      "image/png": "[encoded data removed]",
      "text/plain": [
       "<Figure size 432x288 with 1 Axes>"
      ]
     },
     "metadata": {
      "needs_background": "light"
     },
     "output_type": "display_data"
    }
   ],
   "source": [
    "plt.plot(delta_neutral)\n",
    "plt.title('Delta for the new portfolio V_g')"
   ]
  },
  {
   "cell_type": "code",
   "execution_count": 63,
   "metadata": {},
   "outputs": [],
   "source": [
    "Ns_2 = -(Np*delta1)-np2*delta2"
   ]
  },
  {
   "cell_type": "code",
   "execution_count": 64,
   "metadata": {},
   "outputs": [
    {
     "data": {
      "text/plain": [
       "[<matplotlib.lines.Line2D at 0x7f4db28da150>]"
      ]
     },
     "execution_count": 64,
     "metadata": {},
     "output_type": "execute_result"
    },
    {
     "data": {
      "image/png": "[encoded data removed]",
      "text/plain": [
       "<Figure size 432x288 with 1 Axes>"
      ]
     },
     "metadata": {
      "needs_background": "light"
     },
     "output_type": "display_data"
    }
   ],
   "source": [
    "plt.plot(Np*delta1+(Ns_2)+np2*delta2)"
   ]
  },
  {
   "cell_type": "markdown",
   "metadata": {},
   "source": [
    "### $\\Delta_V = 0$ as required."
   ]
  },
  {
   "cell_type": "markdown",
   "metadata": {},
   "source": [
    "## That's it.  We have now managed to neutral delta and gamma.\n",
    "\n",
    "## Simple way:\n",
    "## We can do delta-gamma hedge at the same time."
   ]
  },
  {
   "cell_type": "markdown",
   "metadata": {},
   "source": [
    "## $$\\Delta_V =  N_{p1}\\Delta_1+ N_s +N_{p2}\\Delta_2$$\n",
    "## $$\\Gamma_V = \\frac{\\partial^2 V}{\\partial S^2} = N_{p1}\\Gamma_1+N_{p2}\\Gamma_2$$\n",
    "## Delta-gamma neutral:\n",
    "## $$N_{p1}\\Delta_1+ N_s +N_{p2}\\Delta_2 = 0$$\n",
    "## $$\\frac{\\partial^2 V}{\\partial S^2} = N_{p1}\\Gamma_1+N_{p2}\\Gamma_2 = 0$$\n",
    "## Solving for  $N_{p1} \\mbox{ and } N_{p2}$ we get\n",
    "## $$N_{p1} = -\\frac{N_s}{\\Gamma_{2}\\Delta_{1} - \\Gamma_{1}\\Delta_{2}}$$\n",
    "## $$N_{p2} = - \\frac{N_{p1}\\Gamma_{1}}{\\Gamma_{2}}$$\n",
    "## Then substitute in $$V = N_{p1} P(k_1) + N_s S + N_{p2} P(k_2)$$"
   ]
  },
  {
   "cell_type": "code",
   "execution_count": 77,
   "metadata": {},
   "outputs": [],
   "source": [
    "np1 = -(Ns*gamma2)/(gamma2*delta1 - gamma1*delta2)\n",
    "np2 = -np1*gamma1/gamma2\n",
    "v_final = np1*u(tmax*tf.ones(t.shape),s,k) + Ns*s + np2*u(tmax*tf.ones(t.shape),s,2*k)"
   ]
  },
  {
   "cell_type": "code",
   "execution_count": 78,
   "metadata": {},
   "outputs": [],
   "source": [
    "S = tf.Variable(s, dtype=tf.float32)\n",
    "with tf.GradientTape() as g2:\n",
    "    with tf.GradientTape() as g1:\n",
    "        v_final = np1*u(tmax*tf.ones(t.shape),S,k) + Ns*S + np2*u(tmax*tf.ones(t.shape),S,2*k)\n",
    "    delta_final = g1.gradient(v_final,S)\n",
    "gamma_final =  g2.gradient(delta_final,S)   "
   ]
  },
  {
   "cell_type": "code",
   "execution_count": 79,
   "metadata": {},
   "outputs": [
    {
     "data": {
      "text/plain": [
       "Text(0.5, 1.0, '$\\\\Delta_V$ for two put options')"
      ]
     },
     "execution_count": 79,
     "metadata": {},
     "output_type": "execute_result"
    },
    {
     "data": {
      "image/png": "[encoded data removed]",
      "text/plain": [
       "<Figure size 432x288 with 1 Axes>"
      ]
     },
     "metadata": {
      "needs_background": "light"
     },
     "output_type": "display_data"
    }
   ],
   "source": [
    "plt.plot(delta_final)\n",
    "plt.xlabel('S')\n",
    "plt.ylabel('$\\Delta$')\n",
    "plt.title('$\\Delta_V$ for two put options')"
   ]
  },
  {
   "cell_type": "code",
   "execution_count": 80,
   "metadata": {},
   "outputs": [
    {
     "data": {
      "text/plain": [
       "Text(0.5, 1.0, '$\\\\Delta_V >0 $ for two put options ')"
      ]
     },
     "execution_count": 80,
     "metadata": {},
     "output_type": "execute_result"
    },
    {
     "data": {
      "image/png": "[encoded data removed]",
      "text/plain": [
       "<Figure size 432x288 with 1 Axes>"
      ]
     },
     "metadata": {
      "needs_background": "light"
     },
     "output_type": "display_data"
    }
   ],
   "source": [
    "plt.plot(delta_final)\n",
    "plt.ylim(0,)\n",
    "plt.xlabel('S')\n",
    "plt.ylabel('$\\Delta$')\n",
    "plt.title('$\\Delta_V >0 $ for two put options ')"
   ]
  },
  {
   "cell_type": "code",
   "execution_count": 81,
   "metadata": {},
   "outputs": [
    {
     "data": {
      "text/plain": [
       "Text(0.5, 1.0, '$\\\\Gamma_V >0 $ for two put options ')"
      ]
     },
     "execution_count": 81,
     "metadata": {},
     "output_type": "execute_result"
    },
    {
     "data": {
      "image/png": "[encoded data removed]",
      "text/plain": [
       "<Figure size 432x288 with 1 Axes>"
      ]
     },
     "metadata": {
      "needs_background": "light"
     },
     "output_type": "display_data"
    }
   ],
   "source": [
    "plt.plot(gamma_final)\n",
    "plt.xlabel('S')\n",
    "plt.ylabel('$\\Gamma_V$')\n",
    "plt.title('$\\Gamma_V >0 $ for two put options ')"
   ]
  },
  {
   "cell_type": "code",
   "execution_count": 82,
   "metadata": {},
   "outputs": [
    {
     "data": {
      "text/plain": [
       "Text(0.5, 1.0, '$\\\\Gamma_V >0 $ for two put options ')"
      ]
     },
     "execution_count": 82,
     "metadata": {},
     "output_type": "execute_result"
    },
    {
     "data": {
      "image/png": "[encoded data removed]",
      "text/plain": [
       "<Figure size 432x288 with 1 Axes>"
      ]
     },
     "metadata": {
      "needs_background": "light"
     },
     "output_type": "display_data"
    }
   ],
   "source": [
    "plt.plot(gamma_final)\n",
    "plt.ylim(0,)\n",
    "plt.xlabel('S')\n",
    "plt.ylabel('$\\Gamma_V$')\n",
    "plt.title('$\\Gamma_V >0 $ for two put options ')"
   ]
  },
  {
   "cell_type": "markdown",
   "metadata": {},
   "source": [
    "### From the above graphs, we can conclude that the portfolio has been delta-gamma hedged."
   ]
  },
  {
   "cell_type": "markdown",
   "metadata": {},
   "source": [
    "## References\n",
    "1. Hedging with Options (MMA707) School of Education, Culture and Communication Tutor: Jan Röman\n",
    "2. https://www.quora.com/What-is-the-difference-between-delta-and-gamma-hedging\n",
    "3. John Hull 8th edition\n",
    "4. Valuing and Hedging American Put Options: Using Neural Networks David L. Kelly \n",
    "5. Physics Informed Deep Learning (Part I): Data-driven Solutions of Nonlinear Partial Differential Equations"
   ]
  }
 ],
 "metadata": {
  "kernelspec": {
   "display_name": "Python 3",
   "language": "python",
   "name": "python3"
  },
  "language_info": {
   "codemirror_mode": {
    "name": "ipython",
    "version": 3
   },
   "file_extension": ".py",
   "mimetype": "text/x-python",
   "name": "python",
   "nbconvert_exporter": "python",
   "pygments_lexer": "ipython3",
   "version": "3.7.4"
  }
 },
 "nbformat": 4,
 "nbformat_minor": 2
}
